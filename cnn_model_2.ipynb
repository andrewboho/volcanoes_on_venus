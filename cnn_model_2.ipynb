{
 "cells": [
  {
   "cell_type": "markdown",
   "metadata": {},
   "source": [
    "# CNN #1"
   ]
  },
  {
   "cell_type": "code",
   "execution_count": 1,
   "metadata": {},
   "outputs": [
    {
     "name": "stderr",
     "output_type": "stream",
     "text": [
      "Using TensorFlow backend.\n"
     ]
    }
   ],
   "source": [
    "import numpy as np\n",
    "import pandas as pd\n",
    "\n",
    "from keras.models import Sequential\n",
    "from keras.layers import Dense\n",
    "from keras.layers import Dropout\n",
    "from keras.layers import Flatten\n",
    "from keras.layers.convolutional import Conv2D\n",
    "from keras.layers.convolutional import MaxPooling2D\n",
    "from keras.utils import np_utils\n",
    "\n",
    "# fix dimension ordering issue\n",
    "from keras import backend as K\n",
    "K.set_image_dim_ordering('th')\n",
    "\n",
    "from sklearn.utils import resample\n",
    "from sklearn.metrics import accuracy_score\n",
    "from sklearn.metrics import precision_score\n",
    "from sklearn.metrics import recall_score\n",
    "from sklearn.metrics import f1_score\n",
    "from sklearn.metrics import confusion_matrix\n",
    "from sklearn.metrics import classification_report\n",
    "\n",
    "seed = 28\n",
    "np.random.seed(seed)"
   ]
  },
  {
   "cell_type": "code",
   "execution_count": 2,
   "metadata": {},
   "outputs": [
    {
     "name": "stdout",
     "output_type": "stream",
     "text": [
      "Train-data rows: 7000, Train-data columns: 12100\n",
      "Train-labels rows: 7000, Train-labels columns: 4\n",
      "Test-data rows: 2734, Test-data columns: 12100\n",
      "Test-labels rows: 2734, Test-labels columns: 4\n"
     ]
    }
   ],
   "source": [
    "floydhub_dir = \"/floyd/input/volcanoes_venus\"\n",
    "\n",
    "# Load data - Floydhub\n",
    "data_train = pd.read_csv(\"/floyd/input/volcanoes_venus/train_images.csv\", header=None)\n",
    "labels_train = pd.read_csv(\"/floyd/input/volcanoes_venus/train_labels.csv\")\n",
    "data_test = pd.read_csv(\"/floyd/input/volcanoes_venus/test_images.csv\", header=None)\n",
    "labels_test = pd.read_csv(\"/floyd/input/volcanoes_venus/test_labels.csv\")\n",
    "\n",
    "# Load data - Local\n",
    "#data_train = pd.read_csv(\"data/train_images.csv\", header=None)\n",
    "#labels_train = pd.read_csv(\"data/train_labels.csv\")\n",
    "#data_test = pd.read_csv(\"data/test_images.csv\", header=None)\n",
    "#labels_test = pd.read_csv(\"data/test_labels.csv\")\n",
    "\n",
    "print(\"Train-data rows: {}, Train-data columns: {}\".format(data_train.shape[0], data_train.shape[1]))\n",
    "print(\"Train-labels rows: {}, Train-labels columns: {}\".format(labels_train.shape[0], labels_train.shape[1]))\n",
    "print(\"Test-data rows: {}, Test-data columns: {}\".format(data_test.shape[0], data_test.shape[1]))\n",
    "print(\"Test-labels rows: {}, Test-labels columns: {}\".format(labels_test.shape[0], labels_test.shape[1]))"
   ]
  },
  {
   "cell_type": "code",
   "execution_count": 3,
   "metadata": {},
   "outputs": [
    {
     "name": "stdout",
     "output_type": "stream",
     "text": [
      "New class distribution: 0.5\n",
      "X_train_up shape: (12000, 1, 110, 110)\n",
      "y_train_up shape: (12000,)\n",
      "X_test shape: (2734, 1, 110, 110)\n",
      "y_test shape: (2734,)\n"
     ]
    }
   ],
   "source": [
    "# Prep data for modeling\n",
    "X_train = np.array(data_train.values).astype(\"float32\")\n",
    "y_train = np.array(labels_train[\"Volcano?\"].values).astype(\"float32\")\n",
    "X_test = np.array(data_test.values).astype(\"float32\")\n",
    "y_test = np.array(labels_test[\"Volcano?\"].values).astype(\"float32\")\n",
    "\n",
    "# Shape to include channel dim for Conv2D\n",
    "X_train = X_train.reshape(X_train.shape[0], 1, 110, 110)\n",
    "X_test = X_test.reshape(X_test.shape[0], 1, 110, 110)\n",
    "\n",
    "# Normalize input\n",
    "X_train = X_train / 255\n",
    "X_test = X_test / 255\n",
    "\n",
    "# Up-sample to balance target class\n",
    "X_upsampled, y_upsampled = resample(X_train[y_train == 1], y_train[y_train == 1], replace=True,\n",
    "                                   n_samples=X_train[y_train == 0].shape[0], random_state=seed)\n",
    "\n",
    "X_train_up = np.vstack((X_train[y_train == 0], X_upsampled))\n",
    "y_train_up = np.hstack((y_train[y_train == 0], y_upsampled))\n",
    "\n",
    "y_pred = np.zeros(y_train_up.shape[0])\n",
    "print(\"New class distribution:\", np.mean(y_pred == y_train_up))\n",
    "\n",
    "print(\"X_train_up shape:\", X_train_up.shape)\n",
    "print(\"y_train_up shape:\", y_train_up.shape)\n",
    "print(\"X_test shape:\", X_test.shape)\n",
    "print(\"y_test shape:\", y_test.shape)"
   ]
  },
  {
   "cell_type": "code",
   "execution_count": 4,
   "metadata": {},
   "outputs": [
    {
     "name": "stdout",
     "output_type": "stream",
     "text": [
      "Input dim: (1, 110, 110)\n"
     ]
    }
   ],
   "source": [
    "input_dim = (X_train_up.shape[1], X_train_up.shape[2], X_train_up.shape[3])\n",
    "print(\"Input dim:\", input_dim)"
   ]
  },
  {
   "cell_type": "code",
   "execution_count": 5,
   "metadata": {},
   "outputs": [],
   "source": [
    "# Define baseline model\n",
    "def create_model(input_dim, output_dim):\n",
    "    model = Sequential()\n",
    "    model.add(Conv2D(filters=32, kernel_size=(5, 5), input_shape=input_dim, activation=\"relu\"))\n",
    "    model.add(MaxPooling2D(pool_size=(2, 2)))\n",
    "    model.add(Dropout(rate=0.2))\n",
    "    model.add(Flatten())\n",
    "    model.add(Dense(units=128, activation=\"relu\"))\n",
    "    model.add(Dense(units=output_dim, activation=\"sigmoid\"))\n",
    "    model.compile(loss=\"binary_crossentropy\", optimizer=\"adam\", metrics=[\"accuracy\"])\n",
    "    return model"
   ]
  },
  {
   "cell_type": "code",
   "execution_count": 6,
   "metadata": {},
   "outputs": [
    {
     "name": "stdout",
     "output_type": "stream",
     "text": [
      "_________________________________________________________________\n",
      "Layer (type)                 Output Shape              Param #   \n",
      "=================================================================\n",
      "conv2d_1 (Conv2D)            (None, 32, 106, 106)      832       \n",
      "_________________________________________________________________\n",
      "max_pooling2d_1 (MaxPooling2 (None, 32, 53, 53)        0         \n",
      "_________________________________________________________________\n",
      "dropout_1 (Dropout)          (None, 32, 53, 53)        0         \n",
      "_________________________________________________________________\n",
      "flatten_1 (Flatten)          (None, 89888)             0         \n",
      "_________________________________________________________________\n",
      "dense_1 (Dense)              (None, 128)               11505792  \n",
      "_________________________________________________________________\n",
      "dense_2 (Dense)              (None, 1)                 129       \n",
      "=================================================================\n",
      "Total params: 11,506,753\n",
      "Trainable params: 11,506,753\n",
      "Non-trainable params: 0\n",
      "_________________________________________________________________\n"
     ]
    }
   ],
   "source": [
    "model = create_model(input_dim, 1)\n",
    "model.summary()"
   ]
  },
  {
   "cell_type": "code",
   "execution_count": 7,
   "metadata": {},
   "outputs": [
    {
     "name": "stdout",
     "output_type": "stream",
     "text": [
      "Train on 12000 samples, validate on 2734 samples\n",
      "Epoch 1/25\n",
      "12000/12000 [==============================] - 7s 623us/step - loss: 0.8196 - acc: 0.5913 - val_loss: 0.5171 - val_acc: 0.8800\n",
      "Epoch 2/25\n",
      "12000/12000 [==============================] - 6s 485us/step - loss: 0.5097 - acc: 0.7958 - val_loss: 0.5328 - val_acc: 0.8135\n",
      "Epoch 3/25\n",
      "12000/12000 [==============================] - 6s 486us/step - loss: 0.3550 - acc: 0.8955 - val_loss: 0.3420 - val_acc: 0.9126\n",
      "Epoch 4/25\n",
      "12000/12000 [==============================] - 6s 487us/step - loss: 0.2726 - acc: 0.9168 - val_loss: 0.2820 - val_acc: 0.9210\n",
      "Epoch 5/25\n",
      "12000/12000 [==============================] - 6s 486us/step - loss: 0.2109 - acc: 0.9414 - val_loss: 0.2004 - val_acc: 0.9353\n",
      "Epoch 6/25\n",
      "12000/12000 [==============================] - 6s 487us/step - loss: 0.1798 - acc: 0.9496 - val_loss: 0.2233 - val_acc: 0.9309\n",
      "Epoch 7/25\n",
      "12000/12000 [==============================] - 6s 488us/step - loss: 0.1382 - acc: 0.9667 - val_loss: 0.2057 - val_acc: 0.9342\n",
      "Epoch 8/25\n",
      "12000/12000 [==============================] - 6s 487us/step - loss: 0.1086 - acc: 0.9770 - val_loss: 0.1742 - val_acc: 0.9429\n",
      "Epoch 9/25\n",
      "12000/12000 [==============================] - 6s 487us/step - loss: 0.0927 - acc: 0.9816 - val_loss: 0.1815 - val_acc: 0.9393\n",
      "Epoch 10/25\n",
      "12000/12000 [==============================] - 6s 487us/step - loss: 0.0812 - acc: 0.9827 - val_loss: 0.1692 - val_acc: 0.9426\n",
      "Epoch 11/25\n",
      "12000/12000 [==============================] - 6s 488us/step - loss: 0.0622 - acc: 0.9893 - val_loss: 0.1777 - val_acc: 0.9418\n",
      "Epoch 12/25\n",
      "12000/12000 [==============================] - 6s 488us/step - loss: 0.0516 - acc: 0.9917 - val_loss: 0.1797 - val_acc: 0.9393\n",
      "Epoch 13/25\n",
      "12000/12000 [==============================] - 6s 488us/step - loss: 0.0423 - acc: 0.9936 - val_loss: 0.1711 - val_acc: 0.9418\n",
      "Epoch 14/25\n",
      "12000/12000 [==============================] - 6s 487us/step - loss: 0.0374 - acc: 0.9938 - val_loss: 0.1652 - val_acc: 0.9470\n",
      "Epoch 15/25\n",
      "12000/12000 [==============================] - 6s 488us/step - loss: 0.0344 - acc: 0.9943 - val_loss: 0.1691 - val_acc: 0.9470\n",
      "Epoch 16/25\n",
      "12000/12000 [==============================] - 6s 487us/step - loss: 0.0266 - acc: 0.9963 - val_loss: 0.1724 - val_acc: 0.9495\n",
      "Epoch 17/25\n",
      "12000/12000 [==============================] - 6s 489us/step - loss: 0.0201 - acc: 0.9983 - val_loss: 0.1738 - val_acc: 0.9495\n",
      "Epoch 18/25\n",
      "12000/12000 [==============================] - 6s 489us/step - loss: 0.0180 - acc: 0.9981 - val_loss: 0.1784 - val_acc: 0.9499\n",
      "Epoch 19/25\n",
      "12000/12000 [==============================] - 6s 489us/step - loss: 0.0140 - acc: 0.9989 - val_loss: 0.1770 - val_acc: 0.9517\n",
      "Epoch 20/25\n",
      "12000/12000 [==============================] - 6s 490us/step - loss: 0.0123 - acc: 0.9990 - val_loss: 0.1944 - val_acc: 0.9481\n",
      "Epoch 21/25\n",
      "12000/12000 [==============================] - 6s 489us/step - loss: 0.0103 - acc: 0.9995 - val_loss: 0.1729 - val_acc: 0.9521\n",
      "Epoch 22/25\n",
      "12000/12000 [==============================] - 6s 491us/step - loss: 0.0089 - acc: 0.9998 - val_loss: 0.1856 - val_acc: 0.9517\n",
      "Epoch 23/25\n",
      "12000/12000 [==============================] - 6s 490us/step - loss: 0.0075 - acc: 0.9998 - val_loss: 0.1759 - val_acc: 0.9521\n",
      "Epoch 24/25\n",
      "12000/12000 [==============================] - 6s 489us/step - loss: 0.0065 - acc: 0.9998 - val_loss: 0.1911 - val_acc: 0.9499\n",
      "Epoch 25/25\n",
      "12000/12000 [==============================] - 6s 491us/step - loss: 0.0054 - acc: 0.9999 - val_loss: 0.1918 - val_acc: 0.9517\n"
     ]
    },
    {
     "data": {
      "text/plain": [
       "<keras.callbacks.History at 0x7f05a8756a20>"
      ]
     },
     "execution_count": 7,
     "metadata": {},
     "output_type": "execute_result"
    }
   ],
   "source": [
    "model.fit(X_train_up, y_train_up, validation_data=(X_test, y_test), epochs=25, batch_size=200, verbose=1)"
   ]
  },
  {
   "cell_type": "code",
   "execution_count": 8,
   "metadata": {},
   "outputs": [
    {
     "name": "stdout",
     "output_type": "stream",
     "text": [
      "Baseline accuracy: 95.17%\n",
      "Baseline error rate: 4.83%\n"
     ]
    }
   ],
   "source": [
    "scores = model.evaluate(X_test, y_test, verbose=0)\n",
    "print(\"Baseline accuracy: {:.2f}%\".format(100 * scores[1]))\n",
    "print(\"Baseline error rate: {:.2f}%\".format(100 * (1 - scores[1])))"
   ]
  },
  {
   "cell_type": "code",
   "execution_count": 9,
   "metadata": {},
   "outputs": [],
   "source": [
    "preds = model.predict_classes(X_test)"
   ]
  },
  {
   "cell_type": "code",
   "execution_count": 10,
   "metadata": {},
   "outputs": [
    {
     "name": "stdout",
     "output_type": "stream",
     "text": [
      "Test accuracy: 0.9517190929041697\n",
      "\n",
      "Confusion matrix:\n",
      "\n",
      "[[2265   35]\n",
      " [  97  337]]\n",
      "\n",
      "Classification report:\n",
      "\n",
      "             precision    recall  f1-score   support\n",
      "\n",
      "        0.0       0.96      0.98      0.97      2300\n",
      "        1.0       0.91      0.78      0.84       434\n",
      "\n",
      "avg / total       0.95      0.95      0.95      2734\n",
      "\n"
     ]
    }
   ],
   "source": [
    "print(\"Test accuracy:\", accuracy_score(y_test, preds))\n",
    "print(\"\\nConfusion matrix:\\n\")\n",
    "print(confusion_matrix(y_test, preds))\n",
    "print(\"\\nClassification report:\\n\")\n",
    "print(classification_report(y_test, preds))"
   ]
  },
  {
   "cell_type": "code",
   "execution_count": null,
   "metadata": {},
   "outputs": [],
   "source": []
  }
 ],
 "metadata": {
  "kernelspec": {
   "display_name": "Python 3",
   "language": "python",
   "name": "python3"
  },
  "language_info": {
   "codemirror_mode": {
    "name": "ipython",
    "version": 3
   },
   "file_extension": ".py",
   "mimetype": "text/x-python",
   "name": "python",
   "nbconvert_exporter": "python",
   "pygments_lexer": "ipython3",
   "version": "3.6.5"
  }
 },
 "nbformat": 4,
 "nbformat_minor": 2
}
