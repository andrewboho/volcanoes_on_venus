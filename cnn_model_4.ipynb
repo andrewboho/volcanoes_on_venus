{
 "cells": [
  {
   "cell_type": "markdown",
   "metadata": {},
   "source": [
    "# CNN #3"
   ]
  },
  {
   "cell_type": "code",
   "execution_count": 4,
   "metadata": {},
   "outputs": [],
   "source": [
    "import numpy as np\n",
    "import pandas as pd\n",
    "\n",
    "from keras.models import Sequential\n",
    "from keras.layers import Dense\n",
    "from keras.layers import Dropout\n",
    "from keras.layers import Flatten\n",
    "from keras.constraints import maxnorm\n",
    "from keras.optimizers import SGD\n",
    "from keras.layers.convolutional import Conv2D\n",
    "from keras.layers.convolutional import MaxPooling2D\n",
    "from keras.utils import np_utils\n",
    "\n",
    "# fix dimension ordering issue\n",
    "from keras import backend as K\n",
    "K.set_image_dim_ordering('th')\n",
    "\n",
    "from sklearn.utils import resample\n",
    "from sklearn.metrics import accuracy_score\n",
    "from sklearn.metrics import precision_score\n",
    "from sklearn.metrics import recall_score\n",
    "from sklearn.metrics import f1_score\n",
    "from sklearn.metrics import confusion_matrix\n",
    "from sklearn.metrics import classification_report\n",
    "\n",
    "seed = 28\n",
    "np.random.seed(seed)"
   ]
  },
  {
   "cell_type": "code",
   "execution_count": 5,
   "metadata": {},
   "outputs": [
    {
     "name": "stdout",
     "output_type": "stream",
     "text": [
      "Train-data rows: 7000, Train-data columns: 12100\n",
      "Train-labels rows: 7000, Train-labels columns: 4\n",
      "Test-data rows: 2734, Test-data columns: 12100\n",
      "Test-labels rows: 2734, Test-labels columns: 4\n"
     ]
    }
   ],
   "source": [
    "floydhub_dir = \"/floyd/input/volcanoes_venus\"\n",
    "\n",
    "# Load data - Floydhub\n",
    "data_train = pd.read_csv(\"/floyd/input/volcanoes_venus/train_images.csv\", header=None)\n",
    "labels_train = pd.read_csv(\"/floyd/input/volcanoes_venus/train_labels.csv\")\n",
    "data_test = pd.read_csv(\"/floyd/input/volcanoes_venus/test_images.csv\", header=None)\n",
    "labels_test = pd.read_csv(\"/floyd/input/volcanoes_venus/test_labels.csv\")\n",
    "\n",
    "# Load data - Local\n",
    "#data_train = pd.read_csv(\"data/train_images.csv\", header=None)\n",
    "#labels_train = pd.read_csv(\"data/train_labels.csv\")\n",
    "#data_test = pd.read_csv(\"data/test_images.csv\", header=None)\n",
    "#labels_test = pd.read_csv(\"data/test_labels.csv\")\n",
    "\n",
    "print(\"Train-data rows: {}, Train-data columns: {}\".format(data_train.shape[0], data_train.shape[1]))\n",
    "print(\"Train-labels rows: {}, Train-labels columns: {}\".format(labels_train.shape[0], labels_train.shape[1]))\n",
    "print(\"Test-data rows: {}, Test-data columns: {}\".format(data_test.shape[0], data_test.shape[1]))\n",
    "print(\"Test-labels rows: {}, Test-labels columns: {}\".format(labels_test.shape[0], labels_test.shape[1]))"
   ]
  },
  {
   "cell_type": "code",
   "execution_count": 6,
   "metadata": {},
   "outputs": [
    {
     "name": "stdout",
     "output_type": "stream",
     "text": [
      "New class distribution: 0.5\n",
      "X_train_up shape: (12000, 1, 110, 110)\n",
      "y_train_up shape: (12000,)\n",
      "X_test shape: (2734, 1, 110, 110)\n",
      "y_test shape: (2734,)\n"
     ]
    }
   ],
   "source": [
    "# Prep data for modeling\n",
    "X_train = np.array(data_train.values).astype(\"float32\")\n",
    "y_train = np.array(labels_train[\"Volcano?\"].values).astype(\"float32\")\n",
    "X_test = np.array(data_test.values).astype(\"float32\")\n",
    "y_test = np.array(labels_test[\"Volcano?\"].values).astype(\"float32\")\n",
    "\n",
    "# Shape to include channel dim for Conv2D\n",
    "X_train = X_train.reshape(X_train.shape[0], 1, 110, 110)\n",
    "X_test = X_test.reshape(X_test.shape[0], 1, 110, 110)\n",
    "\n",
    "# Normalize input\n",
    "X_train = X_train / 255\n",
    "X_test = X_test / 255\n",
    "\n",
    "# Up-sample to balance target class\n",
    "X_upsampled, y_upsampled = resample(X_train[y_train == 1], y_train[y_train == 1], replace=True,\n",
    "                                   n_samples=X_train[y_train == 0].shape[0], random_state=seed)\n",
    "\n",
    "X_train_up = np.vstack((X_train[y_train == 0], X_upsampled))\n",
    "y_train_up = np.hstack((y_train[y_train == 0], y_upsampled))\n",
    "\n",
    "y_pred = np.zeros(y_train_up.shape[0])\n",
    "print(\"New class distribution:\", np.mean(y_pred == y_train_up))\n",
    "\n",
    "print(\"X_train_up shape:\", X_train_up.shape)\n",
    "print(\"y_train_up shape:\", y_train_up.shape)\n",
    "print(\"X_test shape:\", X_test.shape)\n",
    "print(\"y_test shape:\", y_test.shape)"
   ]
  },
  {
   "cell_type": "code",
   "execution_count": 7,
   "metadata": {},
   "outputs": [
    {
     "name": "stdout",
     "output_type": "stream",
     "text": [
      "Input dim: (1, 110, 110)\n"
     ]
    }
   ],
   "source": [
    "input_dim = (X_train_up.shape[1], X_train_up.shape[2], X_train_up.shape[3])\n",
    "epochs = 25\n",
    "print(\"Input dim:\", input_dim)"
   ]
  },
  {
   "cell_type": "code",
   "execution_count": 8,
   "metadata": {},
   "outputs": [],
   "source": [
    "def create_model(input_dim, output_dim, epochs=25, lrate=0.01):\n",
    "    model = Sequential()\n",
    "    model.add(Conv2D(filters=32, kernel_size=(3, 3), input_shape=input_dim, padding=\"same\", activation=\"relu\",\n",
    "                    kernel_constraint=maxnorm(3)))\n",
    "    model.add(Dropout(rate=0.2))\n",
    "    model.add(Conv2D(filters=32, kernel_size=(3, 3), activation=\"relu\", padding=\"same\",\n",
    "                     kernel_constraint=maxnorm(3)))\n",
    "    model.add(MaxPooling2D(pool_size=(2, 2)))\n",
    "    model.add(Flatten())\n",
    "    model.add(Dense(512, activation=\"relu\", kernel_constraint=maxnorm(3)))\n",
    "    model.add(Dropout(0.5))\n",
    "    model.add(Dense(output_dim, activation=\"sigmoid\"))\n",
    "\n",
    "    decay = lrate / epochs\n",
    "    sgd = SGD(lr=lrate, momentum=0.9, decay=decay, nesterov=False)\n",
    "    \n",
    "    model.compile(loss=\"binary_crossentropy\", optimizer=sgd, metrics=[\"accuracy\"])\n",
    "    return model"
   ]
  },
  {
   "cell_type": "code",
   "execution_count": 9,
   "metadata": {},
   "outputs": [
    {
     "name": "stdout",
     "output_type": "stream",
     "text": [
      "_________________________________________________________________\n",
      "Layer (type)                 Output Shape              Param #   \n",
      "=================================================================\n",
      "conv2d_1 (Conv2D)            (None, 32, 110, 110)      320       \n",
      "_________________________________________________________________\n",
      "dropout_1 (Dropout)          (None, 32, 110, 110)      0         \n",
      "_________________________________________________________________\n",
      "conv2d_2 (Conv2D)            (None, 32, 110, 110)      9248      \n",
      "_________________________________________________________________\n",
      "max_pooling2d_1 (MaxPooling2 (None, 32, 55, 55)        0         \n",
      "_________________________________________________________________\n",
      "flatten_1 (Flatten)          (None, 96800)             0         \n",
      "_________________________________________________________________\n",
      "dense_1 (Dense)              (None, 512)               49562112  \n",
      "_________________________________________________________________\n",
      "dropout_2 (Dropout)          (None, 512)               0         \n",
      "_________________________________________________________________\n",
      "dense_2 (Dense)              (None, 1)                 513       \n",
      "=================================================================\n",
      "Total params: 49,572,193\n",
      "Trainable params: 49,572,193\n",
      "Non-trainable params: 0\n",
      "_________________________________________________________________\n"
     ]
    }
   ],
   "source": [
    "model = create_model(input_dim, 1, epochs=epochs)\n",
    "model.summary()"
   ]
  },
  {
   "cell_type": "code",
   "execution_count": 10,
   "metadata": {},
   "outputs": [
    {
     "name": "stdout",
     "output_type": "stream",
     "text": [
      "Train on 12000 samples, validate on 2734 samples\n",
      "Epoch 1/25\n",
      "12000/12000 [==============================] - 22s 2ms/step - loss: 0.6902 - acc: 0.5412 - val_loss: 0.6285 - val_acc: 0.8409\n",
      "Epoch 2/25\n",
      "12000/12000 [==============================] - 19s 2ms/step - loss: 0.6303 - acc: 0.6776 - val_loss: 0.4845 - val_acc: 0.8745\n",
      "Epoch 3/25\n",
      "12000/12000 [==============================] - 19s 2ms/step - loss: 0.4455 - acc: 0.8137 - val_loss: 0.5421 - val_acc: 0.7992\n",
      "Epoch 4/25\n",
      "12000/12000 [==============================] - 19s 2ms/step - loss: 0.3576 - acc: 0.8571 - val_loss: 0.4444 - val_acc: 0.8204\n",
      "Epoch 5/25\n",
      "12000/12000 [==============================] - 19s 2ms/step - loss: 0.3288 - acc: 0.8633 - val_loss: 0.2992 - val_acc: 0.9075\n",
      "Epoch 6/25\n",
      "12000/12000 [==============================] - 19s 2ms/step - loss: 0.2922 - acc: 0.8823 - val_loss: 0.2684 - val_acc: 0.9217\n",
      "Epoch 7/25\n",
      "12000/12000 [==============================] - 19s 2ms/step - loss: 0.2657 - acc: 0.8947 - val_loss: 0.2828 - val_acc: 0.9031\n",
      "Epoch 8/25\n",
      "12000/12000 [==============================] - 19s 2ms/step - loss: 0.2400 - acc: 0.9059 - val_loss: 0.2166 - val_acc: 0.9279\n",
      "Epoch 9/25\n",
      "12000/12000 [==============================] - 19s 2ms/step - loss: 0.2057 - acc: 0.9209 - val_loss: 0.2748 - val_acc: 0.9071\n",
      "Epoch 10/25\n",
      "12000/12000 [==============================] - 19s 2ms/step - loss: 0.2037 - acc: 0.9217 - val_loss: 0.2770 - val_acc: 0.9001\n",
      "Epoch 11/25\n",
      "12000/12000 [==============================] - 19s 2ms/step - loss: 0.1701 - acc: 0.9383 - val_loss: 0.2136 - val_acc: 0.9312\n",
      "Epoch 12/25\n",
      "12000/12000 [==============================] - 19s 2ms/step - loss: 0.1620 - acc: 0.9418 - val_loss: 0.1968 - val_acc: 0.9353\n",
      "Epoch 13/25\n",
      "12000/12000 [==============================] - 19s 2ms/step - loss: 0.1512 - acc: 0.9462 - val_loss: 0.1785 - val_acc: 0.9484\n",
      "Epoch 14/25\n",
      "12000/12000 [==============================] - 19s 2ms/step - loss: 0.1305 - acc: 0.9557 - val_loss: 0.1683 - val_acc: 0.9532\n",
      "Epoch 15/25\n",
      "12000/12000 [==============================] - 19s 2ms/step - loss: 0.1052 - acc: 0.9662 - val_loss: 0.1778 - val_acc: 0.9521\n",
      "Epoch 16/25\n",
      "12000/12000 [==============================] - 19s 2ms/step - loss: 0.1017 - acc: 0.9664 - val_loss: 0.1983 - val_acc: 0.9433\n",
      "Epoch 17/25\n",
      "12000/12000 [==============================] - 19s 2ms/step - loss: 0.0907 - acc: 0.9702 - val_loss: 0.1791 - val_acc: 0.9535\n",
      "Epoch 18/25\n",
      "12000/12000 [==============================] - 19s 2ms/step - loss: 0.0823 - acc: 0.9733 - val_loss: 0.1923 - val_acc: 0.9477\n",
      "Epoch 19/25\n",
      "12000/12000 [==============================] - 19s 2ms/step - loss: 0.0711 - acc: 0.9778 - val_loss: 0.2093 - val_acc: 0.9404\n",
      "Epoch 20/25\n",
      "12000/12000 [==============================] - 19s 2ms/step - loss: 0.0689 - acc: 0.9800 - val_loss: 0.1885 - val_acc: 0.9514\n",
      "Epoch 21/25\n",
      "12000/12000 [==============================] - 19s 2ms/step - loss: 0.0667 - acc: 0.9798 - val_loss: 0.1903 - val_acc: 0.9539\n",
      "Epoch 22/25\n",
      "12000/12000 [==============================] - 19s 2ms/step - loss: 0.0580 - acc: 0.9823 - val_loss: 0.2007 - val_acc: 0.9488\n",
      "Epoch 23/25\n",
      "12000/12000 [==============================] - 19s 2ms/step - loss: 0.0517 - acc: 0.9853 - val_loss: 0.1884 - val_acc: 0.9550\n",
      "Epoch 24/25\n",
      "12000/12000 [==============================] - 19s 2ms/step - loss: 0.0491 - acc: 0.9863 - val_loss: 0.2040 - val_acc: 0.9459\n",
      "Epoch 25/25\n",
      "12000/12000 [==============================] - 19s 2ms/step - loss: 0.0536 - acc: 0.9836 - val_loss: 0.1800 - val_acc: 0.9539\n"
     ]
    },
    {
     "data": {
      "text/plain": [
       "<keras.callbacks.History at 0x7fdee48caac8>"
      ]
     },
     "execution_count": 10,
     "metadata": {},
     "output_type": "execute_result"
    }
   ],
   "source": [
    "model.fit(X_train_up, y_train_up, validation_data=(X_test, y_test), epochs=epochs, batch_size=200, verbose=1)"
   ]
  },
  {
   "cell_type": "code",
   "execution_count": 11,
   "metadata": {},
   "outputs": [
    {
     "name": "stdout",
     "output_type": "stream",
     "text": [
      "Baseline accuracy: 95.39%\n",
      "Baseline error rate: 4.61%\n"
     ]
    }
   ],
   "source": [
    "scores = model.evaluate(X_test, y_test, verbose=0)\n",
    "print(\"Baseline accuracy: {:.2f}%\".format(100 * scores[1]))\n",
    "print(\"Baseline error rate: {:.2f}%\".format(100 * (1 - scores[1])))"
   ]
  },
  {
   "cell_type": "code",
   "execution_count": 12,
   "metadata": {},
   "outputs": [],
   "source": [
    "preds = model.predict_classes(X_test)"
   ]
  },
  {
   "cell_type": "code",
   "execution_count": 13,
   "metadata": {},
   "outputs": [
    {
     "name": "stdout",
     "output_type": "stream",
     "text": [
      "Test accuracy: 0.9539136795903438\n",
      "\n",
      "Confusion matrix:\n",
      "\n",
      "[[2247   53]\n",
      " [  73  361]]\n",
      "\n",
      "Classification report:\n",
      "\n",
      "             precision    recall  f1-score   support\n",
      "\n",
      "        0.0       0.97      0.98      0.97      2300\n",
      "        1.0       0.87      0.83      0.85       434\n",
      "\n",
      "avg / total       0.95      0.95      0.95      2734\n",
      "\n"
     ]
    }
   ],
   "source": [
    "print(\"Test accuracy:\", accuracy_score(y_test, preds))\n",
    "print(\"\\nConfusion matrix:\\n\")\n",
    "print(confusion_matrix(y_test, preds))\n",
    "print(\"\\nClassification report:\\n\")\n",
    "print(classification_report(y_test, preds))"
   ]
  },
  {
   "cell_type": "code",
   "execution_count": null,
   "metadata": {},
   "outputs": [],
   "source": []
  }
 ],
 "metadata": {
  "kernelspec": {
   "display_name": "Python 3",
   "language": "python",
   "name": "python3"
  },
  "language_info": {
   "codemirror_mode": {
    "name": "ipython",
    "version": 3
   },
   "file_extension": ".py",
   "mimetype": "text/x-python",
   "name": "python",
   "nbconvert_exporter": "python",
   "pygments_lexer": "ipython3",
   "version": "3.6.5"
  }
 },
 "nbformat": 4,
 "nbformat_minor": 2
}
