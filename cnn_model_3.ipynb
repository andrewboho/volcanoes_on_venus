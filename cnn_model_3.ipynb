{
 "cells": [
  {
   "cell_type": "markdown",
   "metadata": {},
   "source": [
    "# CNN #2"
   ]
  },
  {
   "cell_type": "code",
   "execution_count": 1,
   "metadata": {},
   "outputs": [
    {
     "name": "stderr",
     "output_type": "stream",
     "text": [
      "Using TensorFlow backend.\n"
     ]
    }
   ],
   "source": [
    "import numpy as np\n",
    "import pandas as pd\n",
    "\n",
    "from keras.models import Sequential\n",
    "from keras.layers import Dense\n",
    "from keras.layers import Dropout\n",
    "from keras.layers import Flatten\n",
    "from keras.layers.convolutional import Conv2D\n",
    "from keras.layers.convolutional import MaxPooling2D\n",
    "from keras.utils import np_utils\n",
    "\n",
    "# fix dimension ordering issue\n",
    "from keras import backend as K\n",
    "K.set_image_dim_ordering('th')\n",
    "\n",
    "from sklearn.utils import resample\n",
    "from sklearn.metrics import accuracy_score\n",
    "from sklearn.metrics import precision_score\n",
    "from sklearn.metrics import recall_score\n",
    "from sklearn.metrics import f1_score\n",
    "from sklearn.metrics import confusion_matrix\n",
    "from sklearn.metrics import classification_report\n",
    "\n",
    "seed = 28\n",
    "np.random.seed(seed)"
   ]
  },
  {
   "cell_type": "code",
   "execution_count": 2,
   "metadata": {},
   "outputs": [
    {
     "name": "stdout",
     "output_type": "stream",
     "text": [
      "Train-data rows: 7000, Train-data columns: 12100\n",
      "Train-labels rows: 7000, Train-labels columns: 4\n",
      "Test-data rows: 2734, Test-data columns: 12100\n",
      "Test-labels rows: 2734, Test-labels columns: 4\n"
     ]
    }
   ],
   "source": [
    "floydhub_dir = \"/floyd/input/volcanoes_venus\"\n",
    "\n",
    "# Load data - Floydhub\n",
    "data_train = pd.read_csv(\"/floyd/input/volcanoes_venus/train_images.csv\", header=None)\n",
    "labels_train = pd.read_csv(\"/floyd/input/volcanoes_venus/train_labels.csv\")\n",
    "data_test = pd.read_csv(\"/floyd/input/volcanoes_venus/test_images.csv\", header=None)\n",
    "labels_test = pd.read_csv(\"/floyd/input/volcanoes_venus/test_labels.csv\")\n",
    "\n",
    "# Load data - Local\n",
    "#data_train = pd.read_csv(\"data/train_images.csv\", header=None)\n",
    "#labels_train = pd.read_csv(\"data/train_labels.csv\")\n",
    "#data_test = pd.read_csv(\"data/test_images.csv\", header=None)\n",
    "#labels_test = pd.read_csv(\"data/test_labels.csv\")\n",
    "\n",
    "print(\"Train-data rows: {}, Train-data columns: {}\".format(data_train.shape[0], data_train.shape[1]))\n",
    "print(\"Train-labels rows: {}, Train-labels columns: {}\".format(labels_train.shape[0], labels_train.shape[1]))\n",
    "print(\"Test-data rows: {}, Test-data columns: {}\".format(data_test.shape[0], data_test.shape[1]))\n",
    "print(\"Test-labels rows: {}, Test-labels columns: {}\".format(labels_test.shape[0], labels_test.shape[1]))"
   ]
  },
  {
   "cell_type": "code",
   "execution_count": 3,
   "metadata": {},
   "outputs": [
    {
     "name": "stdout",
     "output_type": "stream",
     "text": [
      "New class distribution: 0.5\n",
      "X_train_up shape: (12000, 1, 110, 110)\n",
      "y_train_up shape: (12000,)\n",
      "X_test shape: (2734, 1, 110, 110)\n",
      "y_test shape: (2734,)\n"
     ]
    }
   ],
   "source": [
    "# Prep data for modeling\n",
    "X_train = np.array(data_train.values).astype(\"float32\")\n",
    "y_train = np.array(labels_train[\"Volcano?\"].values).astype(\"float32\")\n",
    "X_test = np.array(data_test.values).astype(\"float32\")\n",
    "y_test = np.array(labels_test[\"Volcano?\"].values).astype(\"float32\")\n",
    "\n",
    "# Shape to include channel dim for Conv2D\n",
    "X_train = X_train.reshape(X_train.shape[0], 1, 110, 110)\n",
    "X_test = X_test.reshape(X_test.shape[0], 1, 110, 110)\n",
    "\n",
    "# Normalize input\n",
    "X_train = X_train / 255\n",
    "X_test = X_test / 255\n",
    "\n",
    "# Up-sample to balance target class\n",
    "X_upsampled, y_upsampled = resample(X_train[y_train == 1], y_train[y_train == 1], replace=True,\n",
    "                                   n_samples=X_train[y_train == 0].shape[0], random_state=seed)\n",
    "\n",
    "X_train_up = np.vstack((X_train[y_train == 0], X_upsampled))\n",
    "y_train_up = np.hstack((y_train[y_train == 0], y_upsampled))\n",
    "\n",
    "y_pred = np.zeros(y_train_up.shape[0])\n",
    "print(\"New class distribution:\", np.mean(y_pred == y_train_up))\n",
    "\n",
    "print(\"X_train_up shape:\", X_train_up.shape)\n",
    "print(\"y_train_up shape:\", y_train_up.shape)\n",
    "print(\"X_test shape:\", X_test.shape)\n",
    "print(\"y_test shape:\", y_test.shape)"
   ]
  },
  {
   "cell_type": "code",
   "execution_count": 4,
   "metadata": {},
   "outputs": [
    {
     "name": "stdout",
     "output_type": "stream",
     "text": [
      "Input dim: (1, 110, 110)\n"
     ]
    }
   ],
   "source": [
    "input_dim = (X_train_up.shape[1], X_train_up.shape[2], X_train_up.shape[3])\n",
    "print(\"Input dim:\", input_dim)"
   ]
  },
  {
   "cell_type": "code",
   "execution_count": 5,
   "metadata": {},
   "outputs": [],
   "source": [
    "# Define model\n",
    "def create_model(input_dim, output_dim):\n",
    "    model = Sequential()\n",
    "    model.add(Conv2D(filters=30, kernel_size=(5, 5), input_shape=input_dim, activation=\"relu\"))\n",
    "    model.add(MaxPooling2D(pool_size=(2, 2)))\n",
    "    model.add(Conv2D(filters=15, kernel_size=(3, 3), activation=\"relu\"))\n",
    "    model.add(MaxPooling2D(pool_size=(2, 2)))\n",
    "    model.add(Dropout(rate=0.2))\n",
    "    model.add(Flatten())\n",
    "    model.add(Dense(units=128, activation=\"relu\"))\n",
    "    model.add(Dense(units=50, activation=\"relu\"))\n",
    "    model.add(Dense(units=output_dim, activation=\"sigmoid\"))\n",
    "    model.compile(loss=\"binary_crossentropy\", optimizer=\"adam\", metrics=[\"accuracy\"])\n",
    "    return model"
   ]
  },
  {
   "cell_type": "code",
   "execution_count": 6,
   "metadata": {},
   "outputs": [
    {
     "name": "stdout",
     "output_type": "stream",
     "text": [
      "_________________________________________________________________\n",
      "Layer (type)                 Output Shape              Param #   \n",
      "=================================================================\n",
      "conv2d_1 (Conv2D)            (None, 30, 106, 106)      780       \n",
      "_________________________________________________________________\n",
      "max_pooling2d_1 (MaxPooling2 (None, 30, 53, 53)        0         \n",
      "_________________________________________________________________\n",
      "conv2d_2 (Conv2D)            (None, 15, 51, 51)        4065      \n",
      "_________________________________________________________________\n",
      "max_pooling2d_2 (MaxPooling2 (None, 15, 25, 25)        0         \n",
      "_________________________________________________________________\n",
      "dropout_1 (Dropout)          (None, 15, 25, 25)        0         \n",
      "_________________________________________________________________\n",
      "flatten_1 (Flatten)          (None, 9375)              0         \n",
      "_________________________________________________________________\n",
      "dense_1 (Dense)              (None, 128)               1200128   \n",
      "_________________________________________________________________\n",
      "dense_2 (Dense)              (None, 50)                6450      \n",
      "_________________________________________________________________\n",
      "dense_3 (Dense)              (None, 1)                 51        \n",
      "=================================================================\n",
      "Total params: 1,211,474\n",
      "Trainable params: 1,211,474\n",
      "Non-trainable params: 0\n",
      "_________________________________________________________________\n"
     ]
    }
   ],
   "source": [
    "model = create_model(input_dim, 1)\n",
    "model.summary()"
   ]
  },
  {
   "cell_type": "code",
   "execution_count": 7,
   "metadata": {},
   "outputs": [
    {
     "name": "stdout",
     "output_type": "stream",
     "text": [
      "Train on 12000 samples, validate on 2734 samples\n",
      "Epoch 1/25\n",
      "12000/12000 [==============================] - 7s 549us/step - loss: 0.6843 - acc: 0.5241 - val_loss: 0.6621 - val_acc: 0.7165\n",
      "Epoch 2/25\n",
      "12000/12000 [==============================] - 5s 420us/step - loss: 0.6169 - acc: 0.6622 - val_loss: 0.4454 - val_acc: 0.9089\n",
      "Epoch 3/25\n",
      "12000/12000 [==============================] - 5s 422us/step - loss: 0.4569 - acc: 0.8058 - val_loss: 0.5091 - val_acc: 0.7831\n",
      "Epoch 4/25\n",
      "12000/12000 [==============================] - 5s 421us/step - loss: 0.3322 - acc: 0.8713 - val_loss: 0.2344 - val_acc: 0.9232\n",
      "Epoch 5/25\n",
      "12000/12000 [==============================] - 5s 422us/step - loss: 0.2573 - acc: 0.9074 - val_loss: 0.2439 - val_acc: 0.9170\n",
      "Epoch 6/25\n",
      "12000/12000 [==============================] - 5s 421us/step - loss: 0.2134 - acc: 0.9218 - val_loss: 0.2339 - val_acc: 0.9173\n",
      "Epoch 7/25\n",
      "12000/12000 [==============================] - 5s 423us/step - loss: 0.1976 - acc: 0.9270 - val_loss: 0.2357 - val_acc: 0.9254\n",
      "Epoch 8/25\n",
      "12000/12000 [==============================] - 5s 422us/step - loss: 0.1597 - acc: 0.9437 - val_loss: 0.1714 - val_acc: 0.9437\n",
      "Epoch 9/25\n",
      "12000/12000 [==============================] - 5s 423us/step - loss: 0.1382 - acc: 0.9511 - val_loss: 0.1911 - val_acc: 0.9320\n",
      "Epoch 10/25\n",
      "12000/12000 [==============================] - 5s 424us/step - loss: 0.1239 - acc: 0.9577 - val_loss: 0.1567 - val_acc: 0.9499\n",
      "Epoch 11/25\n",
      "12000/12000 [==============================] - 5s 423us/step - loss: 0.1047 - acc: 0.9639 - val_loss: 0.1433 - val_acc: 0.9557\n",
      "Epoch 12/25\n",
      "12000/12000 [==============================] - 5s 424us/step - loss: 0.0848 - acc: 0.9718 - val_loss: 0.1528 - val_acc: 0.9535\n",
      "Epoch 13/25\n",
      "12000/12000 [==============================] - 5s 426us/step - loss: 0.0853 - acc: 0.9701 - val_loss: 0.1624 - val_acc: 0.9477\n",
      "Epoch 14/25\n",
      "12000/12000 [==============================] - 5s 424us/step - loss: 0.0694 - acc: 0.9767 - val_loss: 0.1349 - val_acc: 0.9605\n",
      "Epoch 15/25\n",
      "12000/12000 [==============================] - 5s 425us/step - loss: 0.0681 - acc: 0.9771 - val_loss: 0.1390 - val_acc: 0.9587\n",
      "Epoch 16/25\n",
      "12000/12000 [==============================] - 5s 423us/step - loss: 0.0552 - acc: 0.9830 - val_loss: 0.1438 - val_acc: 0.9576\n",
      "Epoch 17/25\n",
      "12000/12000 [==============================] - 5s 423us/step - loss: 0.0526 - acc: 0.9833 - val_loss: 0.1441 - val_acc: 0.9576\n",
      "Epoch 18/25\n",
      "12000/12000 [==============================] - 5s 425us/step - loss: 0.0407 - acc: 0.9883 - val_loss: 0.1472 - val_acc: 0.9557\n",
      "Epoch 19/25\n",
      "12000/12000 [==============================] - 5s 424us/step - loss: 0.0384 - acc: 0.9888 - val_loss: 0.1468 - val_acc: 0.9594\n",
      "Epoch 20/25\n",
      "12000/12000 [==============================] - 5s 425us/step - loss: 0.0336 - acc: 0.9903 - val_loss: 0.1387 - val_acc: 0.9638\n",
      "Epoch 21/25\n",
      "12000/12000 [==============================] - 5s 424us/step - loss: 0.0320 - acc: 0.9906 - val_loss: 0.1580 - val_acc: 0.9598\n",
      "Epoch 22/25\n",
      "12000/12000 [==============================] - 5s 425us/step - loss: 0.0297 - acc: 0.9918 - val_loss: 0.1700 - val_acc: 0.9649\n",
      "Epoch 23/25\n",
      "12000/12000 [==============================] - 5s 424us/step - loss: 0.0267 - acc: 0.9931 - val_loss: 0.1576 - val_acc: 0.9645\n",
      "Epoch 24/25\n",
      "12000/12000 [==============================] - 5s 423us/step - loss: 0.0259 - acc: 0.9922 - val_loss: 0.1620 - val_acc: 0.9623\n",
      "Epoch 25/25\n",
      "12000/12000 [==============================] - 5s 423us/step - loss: 0.0260 - acc: 0.9921 - val_loss: 0.1633 - val_acc: 0.9642\n"
     ]
    },
    {
     "data": {
      "text/plain": [
       "<keras.callbacks.History at 0x7f643282e160>"
      ]
     },
     "execution_count": 7,
     "metadata": {},
     "output_type": "execute_result"
    }
   ],
   "source": [
    "model.fit(X_train_up, y_train_up, validation_data=(X_test, y_test), epochs=25, batch_size=200, verbose=1)"
   ]
  },
  {
   "cell_type": "code",
   "execution_count": 8,
   "metadata": {},
   "outputs": [
    {
     "name": "stdout",
     "output_type": "stream",
     "text": [
      "Baseline accuracy: 96.42%\n",
      "Baseline error rate: 3.58%\n"
     ]
    }
   ],
   "source": [
    "scores = model.evaluate(X_test, y_test, verbose=0)\n",
    "print(\"Baseline accuracy: {:.2f}%\".format(100 * scores[1]))\n",
    "print(\"Baseline error rate: {:.2f}%\".format(100 * (1 - scores[1])))"
   ]
  },
  {
   "cell_type": "code",
   "execution_count": 9,
   "metadata": {},
   "outputs": [],
   "source": [
    "preds = model.predict_classes(X_test)"
   ]
  },
  {
   "cell_type": "code",
   "execution_count": 10,
   "metadata": {},
   "outputs": [
    {
     "name": "stdout",
     "output_type": "stream",
     "text": [
      "Test accuracy: 0.964155084125823\n",
      "\n",
      "Confusion matrix:\n",
      "\n",
      "[[2265   35]\n",
      " [  63  371]]\n",
      "\n",
      "Classification report:\n",
      "\n",
      "             precision    recall  f1-score   support\n",
      "\n",
      "        0.0       0.97      0.98      0.98      2300\n",
      "        1.0       0.91      0.85      0.88       434\n",
      "\n",
      "avg / total       0.96      0.96      0.96      2734\n",
      "\n"
     ]
    }
   ],
   "source": [
    "print(\"Test accuracy:\", accuracy_score(y_test, preds))\n",
    "print(\"\\nConfusion matrix:\\n\")\n",
    "print(confusion_matrix(y_test, preds))\n",
    "print(\"\\nClassification report:\\n\")\n",
    "print(classification_report(y_test, preds))"
   ]
  },
  {
   "cell_type": "code",
   "execution_count": null,
   "metadata": {},
   "outputs": [],
   "source": []
  }
 ],
 "metadata": {
  "kernelspec": {
   "display_name": "Python 3",
   "language": "python",
   "name": "python3"
  },
  "language_info": {
   "codemirror_mode": {
    "name": "ipython",
    "version": 3
   },
   "file_extension": ".py",
   "mimetype": "text/x-python",
   "name": "python",
   "nbconvert_exporter": "python",
   "pygments_lexer": "ipython3",
   "version": "3.6.5"
  }
 },
 "nbformat": 4,
 "nbformat_minor": 2
}
